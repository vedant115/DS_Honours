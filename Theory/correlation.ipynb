{
 "cells": [
  {
   "cell_type": "code",
   "execution_count": 1,
   "id": "e3196dc3",
   "metadata": {},
   "outputs": [],
   "source": [
    "years = [1950, 1960, 1970, 1980, 1990, 2000, 2010]\n",
    "gdp = [300.2, 543.3, 1075.9, 2862.5, 5979.6, 10289.7, 14958.3]"
   ]
  },
  {
   "cell_type": "code",
   "execution_count": 2,
   "id": "ee470f1f",
   "metadata": {},
   "outputs": [],
   "source": [
    "def dot(v, w):\n",
    "    \"\"\"Computes v_1 * w_1 + ... + v_n * w_n\"\"\"\n",
    "    \n",
    "    assert len(v) == len(w), \"vectors must be same length\"\n",
    "    return sum(v_i * w_i for v_i, w_i in zip(v, w))"
   ]
  },
  {
   "cell_type": "code",
   "execution_count": 3,
   "id": "33f8e466",
   "metadata": {},
   "outputs": [],
   "source": [
    "def sum_of_squares(v):\n",
    "    \"\"\"Returns v_1 * v_1 + ... + v_n * v_n\"\"\"\n",
    "    \n",
    "    return dot(v, v)"
   ]
  },
  {
   "cell_type": "code",
   "execution_count": 4,
   "id": "f410edad",
   "metadata": {},
   "outputs": [],
   "source": [
    "def mean(x):\n",
    "    return sum(x) / len(x)"
   ]
  },
  {
   "cell_type": "code",
   "execution_count": 5,
   "id": "1e976fbb",
   "metadata": {},
   "outputs": [],
   "source": [
    "def de_mean(xs):\n",
    "    '''Translate xs by subtracting its mean (so the result has mean 0)'''\n",
    "    \n",
    "    x_bar = mean(xs) \n",
    "    return [x - x_bar for x in xs]"
   ]
  },
  {
   "cell_type": "markdown",
   "id": "db05ccbe",
   "metadata": {},
   "source": [
    "## Variance"
   ]
  },
  {
   "cell_type": "code",
   "execution_count": 6,
   "id": "36fd6b76",
   "metadata": {},
   "outputs": [],
   "source": [
    "def variance(xs):\n",
    "    '''Almost the average squared deviation from the mean'''\n",
    "    \n",
    "    assert len(xs) >= 2, 'variance requires at least two elements'\n",
    "    n = len(xs)\n",
    "    deviations = de_mean(xs)\n",
    "    return sum_of_squares(deviations) / (n - 1)"
   ]
  },
  {
   "cell_type": "markdown",
   "id": "1629945a",
   "metadata": {},
   "source": [
    "## Standard Deviation"
   ]
  },
  {
   "cell_type": "code",
   "execution_count": 7,
   "id": "ffdd02c2",
   "metadata": {},
   "outputs": [],
   "source": [
    "import math\n",
    "\n",
    "def standard_deviation(xs):\n",
    "    '''The standard deviation is the square root of the variance'''\n",
    "    \n",
    "    return math.sqrt(variance(xs))"
   ]
  },
  {
   "cell_type": "markdown",
   "id": "17fa1d11",
   "metadata": {},
   "source": [
    "## Covariance"
   ]
  },
  {
   "cell_type": "code",
   "execution_count": 8,
   "id": "e77038c2",
   "metadata": {},
   "outputs": [],
   "source": [
    "def covariance(xs, ys):\n",
    "    assert len(xs) == len(ys), 'xs and ys must have same number of elements'\n",
    "\n",
    "    return dot(de_mean(xs), de_mean(ys)) / (len(xs) - 1)\n"
   ]
  },
  {
   "cell_type": "code",
   "execution_count": 9,
   "id": "bcd75a59",
   "metadata": {},
   "outputs": [
    {
     "data": {
      "text/plain": [
       "113951.33333333333"
      ]
     },
     "execution_count": 9,
     "metadata": {},
     "output_type": "execute_result"
    }
   ],
   "source": [
    "covariance(years, gdp)"
   ]
  },
  {
   "cell_type": "markdown",
   "id": "1975ea09",
   "metadata": {},
   "source": [
    "## Correlation"
   ]
  },
  {
   "cell_type": "code",
   "execution_count": 10,
   "id": "4c918bbf",
   "metadata": {},
   "outputs": [],
   "source": [
    "def correlation(xs, ys):\n",
    "    '''Measures how much xs and ys vary in tandem about their means'''\n",
    "    \n",
    "    stdev_x = standard_deviation(xs)\n",
    "    stdev_y = standard_deviation(ys)\n",
    "    if stdev_x > 0 and stdev_y > 0:\n",
    "        return covariance(xs, ys) / stdev_x / stdev_y\n",
    "    else:\n",
    "        return 0    # if no variation, correlation is zero"
   ]
  },
  {
   "cell_type": "code",
   "execution_count": 11,
   "id": "6a2f36d3",
   "metadata": {},
   "outputs": [
    {
     "data": {
      "text/plain": [
       "0.9376732134541651"
      ]
     },
     "execution_count": 11,
     "metadata": {},
     "output_type": "execute_result"
    }
   ],
   "source": [
    "correlation(years, gdp)"
   ]
  }
 ],
 "metadata": {
  "kernelspec": {
   "display_name": "Python 3",
   "language": "python",
   "name": "python3"
  },
  "language_info": {
   "codemirror_mode": {
    "name": "ipython",
    "version": 3
   },
   "file_extension": ".py",
   "mimetype": "text/x-python",
   "name": "python",
   "nbconvert_exporter": "python",
   "pygments_lexer": "ipython3",
   "version": "3.8.8"
  }
 },
 "nbformat": 4,
 "nbformat_minor": 5
}
